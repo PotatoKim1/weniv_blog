{
  "nbformat": 4,
  "nbformat_minor": 0,
  "metadata": {
    "colab": {
      "provenance": []
    },
    "kernelspec": {
      "name": "python3",
      "display_name": "Python 3"
    },
    "language_info": {
      "name": "python"
    }
  },
  "cells": [
    {
      "cell_type": "code",
      "execution_count": 1,
      "metadata": {
        "colab": {
          "base_uri": "https://localhost:8080/"
        },
        "id": "f0rARaL3w6ta",
        "outputId": "5bd0771f-2a63-4c97-9f54-d5b7b1581911"
      },
      "outputs": [
        {
          "output_type": "stream",
          "name": "stdout",
          "text": [
            "hello world\n"
          ]
        }
      ],
      "source": [
        "print('hello world')"
      ]
    },
    {
      "cell_type": "code",
      "source": [
        "for i in range(10):\n",
        "    print(i)"
      ],
      "metadata": {
        "colab": {
          "base_uri": "https://localhost:8080/"
        },
        "id": "Kb3EKDr9xFhQ",
        "outputId": "9a250c21-9e1a-4f7d-859a-fc40a7503788"
      },
      "execution_count": 2,
      "outputs": [
        {
          "output_type": "stream",
          "name": "stdout",
          "text": [
            "0\n",
            "1\n",
            "2\n",
            "3\n",
            "4\n",
            "5\n",
            "6\n",
            "7\n",
            "8\n",
            "9\n"
          ]
        }
      ]
    },
    {
      "cell_type": "markdown",
      "source": [
        "# hello world\n",
        "\n",
        "## hello world\n",
        "\n",
        "* hello world\n",
        "* hello world\n",
        "* hello world"
      ],
      "metadata": {
        "id": "8iLZ_CQvxYoX"
      }
    },
    {
      "cell_type": "code",
      "source": [],
      "metadata": {
        "id": "4gzAWrpixKC9"
      },
      "execution_count": null,
      "outputs": []
    }
  ]
}